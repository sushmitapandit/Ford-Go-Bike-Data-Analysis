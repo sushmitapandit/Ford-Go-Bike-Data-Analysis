{
 "cells": [
  {
   "cell_type": "markdown",
   "metadata": {},
   "source": [
    "# Ford Go Bike Data 2018"
   ]
  },
  {
   "cell_type": "markdown",
   "metadata": {},
   "source": [
    "## Analysis by Sushmita Pandit\n",
    "FordGoBike Project Ford GoBike is the Bay Area's bike share system. Bay Area Bike Share was introduced in 2013 as a pilot program for the region, with 700 bikes and 70 stations across San Francisco and San Jose. By the end of 2018, Ford GoBike will grow to 7,000 bikes across San Francisco, the East Bay and San Jose.is the Bay Area's new bike share system, with thousands of public bikes for use across the greater San Francisco Bay area. An app was also created to co-piloting for getting around town. Ford has also introduced an ebike called Ford GoBike Plus on April 24th 2018 which is a motorized bike rides. We assume that this would attract more people to ride the bikes without breaking a sweat. For more information on this program, please go to https://www.fordgobike.com \n",
    "\n",
    "# Dataset Overview\n",
    "FordGoBike_Trip_Data_exploratoryAnalysis - covers data from 1st of January 2018 till December 31st 2018 (2018-fordgobike-tripdata.csv). I [**uploaded**](https://s3.amazonaws.com/baywheels-data/index.html) each months data from January till December and then appended whole of the data into one dataframe **\"2018-fordgobike-tripdata.csv\"**.\n",
    "\n",
    "# Investigative Overview\n",
    "####  I have answered following questions \n",
    "1. How is the distribution of various trip duration?\n",
    "2. How is the trend month wise and which month saw long trip durations?\n",
    "3. How is the trip duration season wise?\n",
    "4. How is the distribution of user type that is customer and susbcriber?\n",
    "5. How is the Average byke ride duration in 2018?\n",
    "6. How is the byke ride usage month wise in 2018?\n",
    "7. How are the byke usage hour wise, like when are the busiest hours of the day?\n",
    "8. How long is the usage during weekdays?\n",
    "9. How is the usage by memeber age group?\n",
    "10. How was the monthly trend with respect to age group and subscribers user group?\n",
    "11. Which stations are the busiest?"
   ]
  },
  {
   "cell_type": "markdown",
   "metadata": {},
   "source": [
    "# 1. Distribution of various trip duration"
   ]
  },
  {
   "cell_type": "markdown",
   "metadata": {},
   "source": [
    "We can see that average duration of bike usage is around 10 minutes from the below plot\n",
    "![alt text](1_Distribution_of_various_Trip_Duration.png)\n",
    "\n"
   ]
  },
  {
   "cell_type": "markdown",
   "metadata": {},
   "source": [
    "# 2. Month wise Trip Durations\n",
    "Months like June July August has seen the highest usage as well as usage for longer durations\n",
    "![alt text](2_Month-wise_Trip_Duration_Trend.png)"
   ]
  },
  {
   "cell_type": "markdown",
   "metadata": {},
   "source": [
    "# 3.  Seasons and it effects on bike usage Durations\n",
    "If we see the bike usage trend season wise certainly its more popular in spring and summer seasons\n",
    "![alt text](3_Duration_against_Four_Seasons.png)"
   ]
  },
  {
   "cell_type": "markdown",
   "metadata": {},
   "source": [
    "# 4. Users distribution\n",
    "Usage user wise shows that 85% of the users are subscribers and rest are new customers. It shows that once people subscribe they certainly try to use their subscription. These plot also shows that there are pretty good chances of a customer turning into subscriber.\n",
    "![alt textt](4_customerSubscriberDistribution.png)\n"
   ]
  },
  {
   "cell_type": "markdown",
   "metadata": {},
   "source": [
    "# 5. Analysis of rides duration\n",
    "As seen before most of the rides are of duration ranging between 5 to 10 minutes and there are only few rides which have been more than 45 minutes.\n",
    "![alt text](5_RidesUpTo45Minutes.png)\n"
   ]
  },
  {
   "cell_type": "markdown",
   "metadata": {},
   "source": [
    " # 6. Bike usage Month wise \n",
    " The bike usage is all round the year however it uprises from April and see most of the usage in June and July and as fall approaches the usage trend slows down by the end of October. \n",
    "    ![alt text](6_BikeUsagepermonth.png)"
   ]
  },
  {
   "cell_type": "markdown",
   "metadata": {},
   "source": [
    "# 7. Bike usage by hours of the day\n",
    "During morning hours byke usage starts trending from 7:00 Am and its the highest during 8:00 AM and 9:00 AM and during evening hours it start trending from 3:00 PM and is maximum between 5:00 PM and 6:00 PM . After 7:00 PM the usage slows down.\n",
    "![alt text](7_bikeridebyhours.png)"
   ]
  },
  {
   "cell_type": "markdown",
   "metadata": {},
   "source": [
    "# 8. Bike usage by days of the week vs durations of the rides\n",
    "On weekends starting from Friday until Sunday people are byking for longer durations approx. around 20 minutes\n",
    "![alt text](8_subscriberavgduration.png)"
   ]
  },
  {
   "cell_type": "markdown",
   "metadata": {},
   "source": [
    "# 9. Analysis of popularity of the bike service age group wise.\n",
    "This service is most popular among People from the age range 31-40 and then by age range 21-30.\n",
    "![alt text](8_distribution_member_age_group.png)"
   ]
  },
  {
   "cell_type": "markdown",
   "metadata": {},
   "source": [
    "# 10. Monthly trend of subscribers with respect to user age group\n",
    "Users from age group 21-30 and 31-40 have been the major users and during the months of May, June, July they have shown the highest usage.\n",
    "![alt text](9_subscribers_w.r.t_member_age_group.png)"
   ]
  },
  {
   "cell_type": "markdown",
   "metadata": {},
   "source": [
    "# 11. Start station \n",
    "The most popular and busiest station is San Fransisco Ferry Building\n",
    "![alt text](10_PopularStartStation.png)"
   ]
  },
  {
   "cell_type": "code",
   "execution_count": null,
   "metadata": {},
   "outputs": [],
   "source": []
  }
 ],
 "metadata": {
  "kernelspec": {
   "display_name": "Python 3",
   "language": "python",
   "name": "python3"
  },
  "language_info": {
   "codemirror_mode": {
    "name": "ipython",
    "version": 3
   },
   "file_extension": ".py",
   "mimetype": "text/x-python",
   "name": "python",
   "nbconvert_exporter": "python",
   "pygments_lexer": "ipython3",
   "version": "3.6.9"
  }
 },
 "nbformat": 4,
 "nbformat_minor": 2
}
